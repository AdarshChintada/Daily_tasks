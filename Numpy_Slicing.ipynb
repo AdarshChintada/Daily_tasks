{
  "nbformat": 4,
  "nbformat_minor": 0,
  "metadata": {
    "colab": {
      "provenance": [],
      "authorship_tag": "ABX9TyOXK5ALeCwNm2FXpuW8PN5O",
      "include_colab_link": true
    },
    "kernelspec": {
      "name": "python3",
      "display_name": "Python 3"
    },
    "language_info": {
      "name": "python"
    }
  },
  "cells": [
    {
      "cell_type": "markdown",
      "metadata": {
        "id": "view-in-github",
        "colab_type": "text"
      },
      "source": [
        "<a href=\"https://colab.research.google.com/github/AdarshChintada/Daily_tasks/blob/main/Numpy_Slicing.ipynb\" target=\"_parent\"><img src=\"https://colab.research.google.com/assets/colab-badge.svg\" alt=\"Open In Colab\"/></a>"
      ]
    },
    {
      "cell_type": "code",
      "execution_count": 15,
      "metadata": {
        "colab": {
          "base_uri": "https://localhost:8080/"
        },
        "id": "Ua1ms-zge912",
        "outputId": "d6f1fcba-4e20-4709-be24-16049bfc3342"
      },
      "outputs": [
        {
          "output_type": "stream",
          "name": "stdout",
          "text": [
            "Extracting Subarray: [3 5 7]\n",
            "Negative Slicing: [9 8 7 6 5 4 3 2 1]\n",
            "Single Element Extraction: 8\n",
            "Extracting Subarray from 2d array: [[2 3]\n",
            " [8 9]]\n",
            "Extractinig elements greater than 3: [ 4  7  8  9 10]\n",
            "Extracting single element: 1\n",
            "8\n",
            "The subarray : [[[1 2]\n",
            "  [3 4]]\n",
            "\n",
            " [[5 6]\n",
            "  [7 8]]]\n"
          ]
        }
      ],
      "source": [
        "import numpy as np\n",
        "\n",
        "# 1D array operations\n",
        "array_1 = np.array([1, 2, 3, 4, 5, 6, 7, 8, 9])\n",
        "\n",
        "# Slicing to extract subarray [3, 5, 7]\n",
        "z = array_1[2:8:2]\n",
        "print(\"Extracting Subarray:\",z)\n",
        "\n",
        "# Negative slicing to reverse the array\n",
        "x = array_1[::-1]\n",
        "print(\"Negative Slicing:\",x)\n",
        "\n",
        "# 2D array operations\n",
        "array_2 = np.array([[1, 2, 3, 4], [7, 8, 9, 10]])\n",
        "\n",
        "# Extract a single element (e.g., 8)\n",
        "z = array_2[1, 1]\n",
        "print(\"Single Element Extraction:\",z)\n",
        "\n",
        "# Extract a subarray from the 2D array\n",
        "x = array_2[0:2, 1:3]\n",
        "print(\"Extracting Subarray from 2d array:\",x)\n",
        "\n",
        "# Use a condition to select elements greater than 3\n",
        "condition = array_2 > 3\n",
        "selected_elements = array_2[condition]\n",
        "print(\"Extractinig elements greater than 3:\", selected_elements)\n",
        "\n",
        "# 3D array operations\n",
        "array_3 = np.array([[[1, 2], [3, 4]], [[5, 6], [7, 8]]])\n",
        "\n",
        "# Extract a single element (e.g., 1)\n",
        "x = array_3[0, 0, 0]\n",
        "print(\"Extracting single element:\", x)\n",
        "\n",
        "# Extract a single element (e.g., 8)\n",
        "z = array_3[1, 1, 1]\n",
        "print(z)\n",
        "\n",
        "# Extract a subarray from the 3D array\n",
        "subarray = array_3[0:2, 0:2, 0:2]\n",
        "print(\"The subarray :\",subarray)\n"
      ]
    }
  ]
}