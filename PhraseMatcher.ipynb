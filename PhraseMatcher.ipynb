{
  "cells": [
    {
      "cell_type": "markdown",
      "metadata": {
        "id": "view-in-github",
        "colab_type": "text"
      },
      "source": [
        "<a href=\"https://colab.research.google.com/github/AdarshChintada/Daily_tasks/blob/main/PhraseMatcher.ipynb\" target=\"_parent\"><img src=\"https://colab.research.google.com/assets/colab-badge.svg\" alt=\"Open In Colab\"/></a>"
      ]
    },
    {
      "cell_type": "markdown",
      "source": [
        "**Prepare PhraseMatcher patterns for resume parsing.**"
      ],
      "metadata": {
        "id": "I6ySPVmjs67U"
      }
    },
    {
      "cell_type": "code",
      "source": [
        "import spacy\n",
        "from spacy.matcher import PhraseMatcher\n",
        "\n",
        "# Load a spaCy NLP model\n",
        "nlp = spacy.load(\"en_core_web_sm\")\n",
        "\n",
        "# Sample resume text\n",
        "resume_text = \"\"\"\n",
        "KUSHAL PATEL\n",
        "Personal Data\n",
        "Date of Birth:\n",
        "Address:\n",
        "Phone:\n",
        "email:\n",
        "Linkedin Id:\n",
        "18 th June, 1996\n",
        "B/403 Sagar Sangeet Heights, Sola, Ahmedabad, Gujarat\n",
        "+91 8401547060\n",
        "patelkushal96@gmail.com\n",
        "https://www.linkedin.com/in/patel-kushal/\n",
        "Career Objectives\n",
        "Machine Learning and data science enthusiast with experience of executing data-driven so-\n",
        "lutions of real world problems. Looking to use my Machine learning and data science knowl-\n",
        "edge to manage statistical machine learning and data-related solutions.\n",
        "Education\n",
        "2017-2019 Master of Technology in Structural Engineering\n",
        "Indian Institute of Technology, Madras\n",
        "Gpa: 9.11/10\n",
        "2013-2017 Bachelor of Engineering in Civil Engineering\n",
        "Vishwakarma Government Engineering College, Gandhinagar\n",
        "Gpa: 7.76/10\n",
        "... (the rest of the resume text)\n",
        "\"\"\"\n",
        "\n",
        "# Initialize the PhraseMatcher\n",
        "matcher = PhraseMatcher(nlp.vocab)\n",
        "\n",
        "# Define patterns for each section as phrases\n",
        "patterns = {\n",
        "    \"Name\": [\"KUSHAL PATEL\"],\n",
        "    \"Date_of_Birth\": [\"18 th June, 1996\"],\n",
        "    \"Address\": [\"B/403 Sagar Sangeet Heights, Sola, Ahmedabad, Gujarat\"],\n",
        "    \"Phone\": [\"+91 8401547060\"],\n",
        "    \"Email\": [\"patelkushal96@gmail.com\"],\n",
        "    \"LinkedIn\": [\"https://www.linkedin.com/in/patel-kushal/\"],\n",
        "    # Add more patterns for other sections...\n",
        "}\n",
        "\n",
        "# Add the patterns to the PhraseMatcher\n",
        "for label, phrase_list in patterns.items():\n",
        "    phrase_patterns = [nlp(phrase) for phrase in phrase_list]\n",
        "    matcher.add(label, None, *phrase_patterns)\n",
        "\n",
        "# Process the resume text with spaCy\n",
        "doc = nlp(resume_text)\n",
        "\n",
        "# Apply the PhraseMatcher to the document\n",
        "matches = matcher(doc)\n",
        "\n",
        "# Extract annotations\n",
        "annotations = {}\n",
        "for match_id, start, end in matches:\n",
        "    section_label = nlp.vocab.strings[match_id]\n",
        "    section_text = doc[start:end].text.strip()\n",
        "    annotations[section_label] = section_text\n",
        "\n",
        "# Print the annotations\n",
        "for section, content in annotations.items():\n",
        "    print(f\"{section}: {content}\")\n"
      ],
      "metadata": {
        "colab": {
          "base_uri": "https://localhost:8080/"
        },
        "id": "Qva8qVIWs_Pl",
        "outputId": "00db693d-aeac-419f-fe19-54bda50f8b28"
      },
      "execution_count": 5,
      "outputs": [
        {
          "output_type": "stream",
          "name": "stdout",
          "text": [
            "Name: KUSHAL PATEL\n",
            "Date_of_Birth: 18 th June, 1996\n",
            "Address: B/403 Sagar Sangeet Heights, Sola, Ahmedabad, Gujarat\n",
            "Phone: +91 8401547060\n",
            "Email: patelkushal96@gmail.com\n",
            "LinkedIn: https://www.linkedin.com/in/patel-kushal/\n"
          ]
        }
      ]
    },
    {
      "cell_type": "markdown",
      "source": [
        "**PHRASE MATCHING EXAMPLES**"
      ],
      "metadata": {
        "id": "AWq_Ke2stMxF"
      }
    },
    {
      "cell_type": "code",
      "source": [
        "import spacy\n",
        "from spacy.matcher import Matcher\n",
        "\n",
        "nlp = spacy.load(\"en_core_web_sm\")\n",
        "matcher = Matcher(nlp.vocab)\n",
        "\n",
        "doc = nlp(\n",
        "    \"i downloaded Fortnite on my laptop and can't open the game at all. Help? \"\n",
        "    \"so when I was downloading Minecraft, I got the Windows version where it \"\n",
        "    \"is the '.zip' folder and I used the default program to unpack it... do \"\n",
        "    \"I also need to download Winzip?\"\n",
        ")\n",
        "\n",
        "# Write a pattern that matches a form of \"download\" plus proper noun\n",
        "pattern = [{\"LEMMA\": \"download\"}, {\"POS\": \"PROPN\"}]\n",
        "\n",
        "# Add the pattern to the matcher and apply the matcher to the doc\n",
        "matcher.add(\"DOWNLOAD_THINGS_PATTERN\", [pattern])\n",
        "matches = matcher(doc)\n",
        "print(\"Total matches found:\", len(matches))\n",
        "\n",
        "# Iterate over the matches and print the span text\n",
        "for match_id, start, end in matches:\n",
        "    print(\"Match found:\", doc[start:end].text)"
      ],
      "metadata": {
        "colab": {
          "base_uri": "https://localhost:8080/"
        },
        "id": "ZICOGasvtHi9",
        "outputId": "49a36930-78f0-448d-bb53-d1f57336243e"
      },
      "execution_count": 6,
      "outputs": [
        {
          "output_type": "stream",
          "name": "stdout",
          "text": [
            "Total matches found: 3\n",
            "Match found: downloaded Fortnite\n",
            "Match found: downloading Minecraft\n",
            "Match found: download Winzip\n"
          ]
        }
      ]
    },
    {
      "cell_type": "code",
      "source": [
        "doc = nlp(\"Apple is looking at buying U.K. startup for $1 billion\")\n",
        "\n",
        "# Iterate over the predicted entities\n",
        "for ent in doc.ents:\n",
        "    # Print the entity text and its label\n",
        "    print(ent.text, ent.label_)"
      ],
      "metadata": {
        "colab": {
          "base_uri": "https://localhost:8080/"
        },
        "id": "tj87jSUvtYBd",
        "outputId": "483db5e0-b5e8-4430-9514-f9aa6959f194"
      },
      "execution_count": 7,
      "outputs": [
        {
          "output_type": "stream",
          "name": "stdout",
          "text": [
            "Apple ORG\n",
            "U.K. GPE\n",
            "$1 billion MONEY\n"
          ]
        }
      ]
    },
    {
      "cell_type": "code",
      "source": [
        "import spacy\n",
        "\n",
        "nlp = spacy.blank(\"en\")\n",
        "\n",
        "# Process the text\n",
        "doc = nlp(\n",
        "    \"In 1990, more than 60% of people in East Asia were in extreme poverty. \"\n",
        "    \"Now less than 4% are.\"\n",
        ")\n",
        "\n",
        "# Iterate over the tokens in the doc\n",
        "for token in doc:\n",
        "    # Check if the token resembles a number\n",
        "    if token.like_num:\n",
        "        # Get the next token in the document\n",
        "        next_token = doc[token.i+1]\n",
        "        # Check if the next token's text equals \"%\"\n",
        "        if next_token.text == \"%\":\n",
        "            print(\"Percentage found:\", token.text)"
      ],
      "metadata": {
        "colab": {
          "base_uri": "https://localhost:8080/"
        },
        "id": "q30Ol2qdtfZt",
        "outputId": "91f3eb76-d308-497a-a669-91f6faf7f5f7"
      },
      "execution_count": 8,
      "outputs": [
        {
          "output_type": "stream",
          "name": "stdout",
          "text": [
            "Percentage found: 60\n",
            "Percentage found: 4\n"
          ]
        }
      ]
    },
    {
      "cell_type": "code",
      "source": [
        "import spacy\n",
        "\n",
        "# Import the Matcher\n",
        "from spacy.matcher import Matcher\n",
        "\n",
        "# Load a pipeline and create the nlp object\n",
        "nlp = spacy.load(\"en_core_web_sm\")\n",
        "\n",
        "# Initialize the matcher with the shared vocab\n",
        "matcher = Matcher(nlp.vocab)\n",
        "\n",
        "# Add the pattern to the matcher\n",
        "pattern = [{\"TEXT\": \"iPhone\"}, {\"TEXT\": \"X\"}]\n",
        "matcher.add(\"IPHONE_PATTERN\", [pattern])\n",
        "\n",
        "# Process some text\n",
        "doc = nlp(\"Upcoming iPhone X release date leaked\")\n",
        "\n",
        "# Call the matcher on the doc\n",
        "matches = matcher(doc)\n",
        "\n",
        "for match_id, start, end in matches:\n",
        "    # Get the matched span\n",
        "    matched_span = doc[start:end]\n",
        "    print(matched_span.text)"
      ],
      "metadata": {
        "colab": {
          "base_uri": "https://localhost:8080/"
        },
        "id": "sHwiR-nftl48",
        "outputId": "af737edd-72c3-4a8c-eb1a-c636b2a9e08d"
      },
      "execution_count": 9,
      "outputs": [
        {
          "output_type": "stream",
          "name": "stdout",
          "text": [
            "iPhone X\n"
          ]
        }
      ]
    },
    {
      "cell_type": "code",
      "source": [
        "import spacy\n",
        "\n",
        "# Import the Matcher\n",
        "from spacy.matcher import Matcher\n",
        "\n",
        "nlp = spacy.load(\"en_core_web_sm\")\n",
        "doc = nlp(\"Upcoming iPhone X release date leaked as Apple reveals pre-orders\")\n",
        "\n",
        "# Initialize the Matcher with the shared vocabulary\n",
        "matcher = Matcher(nlp.vocab)\n",
        "\n",
        "# Create a pattern matching two tokens: \"iPhone\" and \"X\"\n",
        "pattern = [{\"TEXT\": \"iPhone\"}, {\"TEXT\": \"X\"}]\n",
        "\n",
        "# Add the pattern to the matcher\n",
        "matcher.add(\"IPHONE_X_PATTERN\", [pattern])\n",
        "\n",
        "# Use the matcher on the doc\n",
        "matches = matcher(doc)\n",
        "print(\"Matches:\", [doc[start:end].text for match_id, start, end in matches])"
      ],
      "metadata": {
        "colab": {
          "base_uri": "https://localhost:8080/"
        },
        "id": "M2eIJTF9tsod",
        "outputId": "83d0067a-f938-4358-91f7-4ffe03aecc0f"
      },
      "execution_count": 10,
      "outputs": [
        {
          "output_type": "stream",
          "name": "stdout",
          "text": [
            "Matches: ['iPhone X']\n"
          ]
        }
      ]
    },
    {
      "cell_type": "code",
      "source": [
        "import spacy\n",
        "from spacy.matcher import Matcher\n",
        "\n",
        "nlp = spacy.load(\"en_core_web_sm\")\n",
        "doc = nlp(\n",
        "    \"After making the iOS update you won't notice a radical system-wide \"\n",
        "    \"redesign: nothing like the aesthetic upheaval we got with iOS 7. Most of \"\n",
        "    \"iOS 11's furniture remains the same as in iOS 10. But you will discover \"\n",
        "    \"some tweaks once you delve a little deeper.\"\n",
        ")\n",
        "matcher = Matcher(nlp.vocab)\n",
        "pattern = [{\"TEXT\":\"iOS\"}, {\"IS_DIGIT\":True}]\n",
        "\n",
        "matcher.add(\"iPhone_text\", [pattern])\n",
        "matches = matcher(doc)\n",
        "\n",
        "print(\"Total matches found:\", len(matches))\n",
        "\n",
        "for match_id, start, end in matches:\n",
        "  print(\"Matches are:\", doc[start:end].text)\n"
      ],
      "metadata": {
        "colab": {
          "base_uri": "https://localhost:8080/"
        },
        "id": "ihlkaB3btxw1",
        "outputId": "d4a8b249-f1e2-4600-e821-1957a946c071"
      },
      "execution_count": 11,
      "outputs": [
        {
          "output_type": "stream",
          "name": "stdout",
          "text": [
            "Total matches found: 3\n",
            "Matches are: iOS 7\n",
            "Matches are: iOS 11\n",
            "Matches are: iOS 10\n"
          ]
        }
      ]
    }
  ],
  "metadata": {
    "colab": {
      "provenance": [],
      "authorship_tag": "ABX9TyOalYpr0YyK7eJG6EZqh5wk",
      "include_colab_link": true
    },
    "kernelspec": {
      "display_name": "Python 3",
      "name": "python3"
    },
    "language_info": {
      "name": "python"
    }
  },
  "nbformat": 4,
  "nbformat_minor": 0
}